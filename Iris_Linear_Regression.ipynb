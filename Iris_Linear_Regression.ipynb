{
 "cells": [
  {
   "cell_type": "code",
   "execution_count": null,
   "id": "7ab14f05",
   "metadata": {},
   "outputs": [],
   "source": [
    "import pandas as pd"
   ]
  },
  {
   "cell_type": "code",
   "execution_count": 2,
   "id": "8ef4378d",
   "metadata": {},
   "outputs": [],
   "source": [
    "import seaborn as sns"
   ]
  },
  {
   "cell_type": "code",
   "execution_count": 26,
   "id": "2be8c1e7",
   "metadata": {},
   "outputs": [],
   "source": [
    "import numpy as np"
   ]
  },
  {
   "cell_type": "code",
   "execution_count": 3,
   "id": "0e7ca9a6",
   "metadata": {},
   "outputs": [],
   "source": [
    "import matplotlib.pyplot as plt"
   ]
  },
  {
   "cell_type": "code",
   "execution_count": 4,
   "id": "b856f7d8",
   "metadata": {},
   "outputs": [],
   "source": [
    "iris = sns.load_dataset('iris')"
   ]
  },
  {
   "cell_type": "code",
   "execution_count": 5,
   "id": "1464b285",
   "metadata": {
    "scrolled": true
   },
   "outputs": [
    {
     "data": {
      "text/html": [
       "<div>\n",
       "<style scoped>\n",
       "    .dataframe tbody tr th:only-of-type {\n",
       "        vertical-align: middle;\n",
       "    }\n",
       "\n",
       "    .dataframe tbody tr th {\n",
       "        vertical-align: top;\n",
       "    }\n",
       "\n",
       "    .dataframe thead th {\n",
       "        text-align: right;\n",
       "    }\n",
       "</style>\n",
       "<table border=\"1\" class=\"dataframe\">\n",
       "  <thead>\n",
       "    <tr style=\"text-align: right;\">\n",
       "      <th></th>\n",
       "      <th>sepal_length</th>\n",
       "      <th>sepal_width</th>\n",
       "      <th>petal_length</th>\n",
       "      <th>petal_width</th>\n",
       "      <th>species</th>\n",
       "    </tr>\n",
       "  </thead>\n",
       "  <tbody>\n",
       "    <tr>\n",
       "      <th>0</th>\n",
       "      <td>5.1</td>\n",
       "      <td>3.5</td>\n",
       "      <td>1.4</td>\n",
       "      <td>0.2</td>\n",
       "      <td>setosa</td>\n",
       "    </tr>\n",
       "    <tr>\n",
       "      <th>1</th>\n",
       "      <td>4.9</td>\n",
       "      <td>3.0</td>\n",
       "      <td>1.4</td>\n",
       "      <td>0.2</td>\n",
       "      <td>setosa</td>\n",
       "    </tr>\n",
       "    <tr>\n",
       "      <th>2</th>\n",
       "      <td>4.7</td>\n",
       "      <td>3.2</td>\n",
       "      <td>1.3</td>\n",
       "      <td>0.2</td>\n",
       "      <td>setosa</td>\n",
       "    </tr>\n",
       "    <tr>\n",
       "      <th>3</th>\n",
       "      <td>4.6</td>\n",
       "      <td>3.1</td>\n",
       "      <td>1.5</td>\n",
       "      <td>0.2</td>\n",
       "      <td>setosa</td>\n",
       "    </tr>\n",
       "    <tr>\n",
       "      <th>4</th>\n",
       "      <td>5.0</td>\n",
       "      <td>3.6</td>\n",
       "      <td>1.4</td>\n",
       "      <td>0.2</td>\n",
       "      <td>setosa</td>\n",
       "    </tr>\n",
       "    <tr>\n",
       "      <th>...</th>\n",
       "      <td>...</td>\n",
       "      <td>...</td>\n",
       "      <td>...</td>\n",
       "      <td>...</td>\n",
       "      <td>...</td>\n",
       "    </tr>\n",
       "    <tr>\n",
       "      <th>145</th>\n",
       "      <td>6.7</td>\n",
       "      <td>3.0</td>\n",
       "      <td>5.2</td>\n",
       "      <td>2.3</td>\n",
       "      <td>virginica</td>\n",
       "    </tr>\n",
       "    <tr>\n",
       "      <th>146</th>\n",
       "      <td>6.3</td>\n",
       "      <td>2.5</td>\n",
       "      <td>5.0</td>\n",
       "      <td>1.9</td>\n",
       "      <td>virginica</td>\n",
       "    </tr>\n",
       "    <tr>\n",
       "      <th>147</th>\n",
       "      <td>6.5</td>\n",
       "      <td>3.0</td>\n",
       "      <td>5.2</td>\n",
       "      <td>2.0</td>\n",
       "      <td>virginica</td>\n",
       "    </tr>\n",
       "    <tr>\n",
       "      <th>148</th>\n",
       "      <td>6.2</td>\n",
       "      <td>3.4</td>\n",
       "      <td>5.4</td>\n",
       "      <td>2.3</td>\n",
       "      <td>virginica</td>\n",
       "    </tr>\n",
       "    <tr>\n",
       "      <th>149</th>\n",
       "      <td>5.9</td>\n",
       "      <td>3.0</td>\n",
       "      <td>5.1</td>\n",
       "      <td>1.8</td>\n",
       "      <td>virginica</td>\n",
       "    </tr>\n",
       "  </tbody>\n",
       "</table>\n",
       "<p>150 rows × 5 columns</p>\n",
       "</div>"
      ],
      "text/plain": [
       "     sepal_length  sepal_width  petal_length  petal_width    species\n",
       "0             5.1          3.5           1.4          0.2     setosa\n",
       "1             4.9          3.0           1.4          0.2     setosa\n",
       "2             4.7          3.2           1.3          0.2     setosa\n",
       "3             4.6          3.1           1.5          0.2     setosa\n",
       "4             5.0          3.6           1.4          0.2     setosa\n",
       "..            ...          ...           ...          ...        ...\n",
       "145           6.7          3.0           5.2          2.3  virginica\n",
       "146           6.3          2.5           5.0          1.9  virginica\n",
       "147           6.5          3.0           5.2          2.0  virginica\n",
       "148           6.2          3.4           5.4          2.3  virginica\n",
       "149           5.9          3.0           5.1          1.8  virginica\n",
       "\n",
       "[150 rows x 5 columns]"
      ]
     },
     "execution_count": 5,
     "metadata": {},
     "output_type": "execute_result"
    }
   ],
   "source": [
    "iris"
   ]
  },
  {
   "cell_type": "code",
   "execution_count": 6,
   "id": "21c663e6",
   "metadata": {
    "scrolled": true
   },
   "outputs": [
    {
     "data": {
      "text/plain": [
       "['anagrams',\n",
       " 'anscombe',\n",
       " 'attention',\n",
       " 'brain_networks',\n",
       " 'car_crashes',\n",
       " 'diamonds',\n",
       " 'dots',\n",
       " 'dowjones',\n",
       " 'exercise',\n",
       " 'flights',\n",
       " 'fmri',\n",
       " 'geyser',\n",
       " 'glue',\n",
       " 'healthexp',\n",
       " 'iris',\n",
       " 'mpg',\n",
       " 'penguins',\n",
       " 'planets',\n",
       " 'seaice',\n",
       " 'taxis',\n",
       " 'tips',\n",
       " 'titanic']"
      ]
     },
     "execution_count": 6,
     "metadata": {},
     "output_type": "execute_result"
    }
   ],
   "source": [
    "sns.get_dataset_names()"
   ]
  },
  {
   "cell_type": "code",
   "execution_count": 7,
   "id": "25356db3",
   "metadata": {},
   "outputs": [],
   "source": [
    "iris = iris[['petal_length','petal_width']]"
   ]
  },
  {
   "cell_type": "code",
   "execution_count": 8,
   "id": "7a77a9bf",
   "metadata": {},
   "outputs": [
    {
     "data": {
      "text/html": [
       "<div>\n",
       "<style scoped>\n",
       "    .dataframe tbody tr th:only-of-type {\n",
       "        vertical-align: middle;\n",
       "    }\n",
       "\n",
       "    .dataframe tbody tr th {\n",
       "        vertical-align: top;\n",
       "    }\n",
       "\n",
       "    .dataframe thead th {\n",
       "        text-align: right;\n",
       "    }\n",
       "</style>\n",
       "<table border=\"1\" class=\"dataframe\">\n",
       "  <thead>\n",
       "    <tr style=\"text-align: right;\">\n",
       "      <th></th>\n",
       "      <th>petal_length</th>\n",
       "      <th>petal_width</th>\n",
       "    </tr>\n",
       "  </thead>\n",
       "  <tbody>\n",
       "    <tr>\n",
       "      <th>0</th>\n",
       "      <td>1.4</td>\n",
       "      <td>0.2</td>\n",
       "    </tr>\n",
       "    <tr>\n",
       "      <th>1</th>\n",
       "      <td>1.4</td>\n",
       "      <td>0.2</td>\n",
       "    </tr>\n",
       "    <tr>\n",
       "      <th>2</th>\n",
       "      <td>1.3</td>\n",
       "      <td>0.2</td>\n",
       "    </tr>\n",
       "    <tr>\n",
       "      <th>3</th>\n",
       "      <td>1.5</td>\n",
       "      <td>0.2</td>\n",
       "    </tr>\n",
       "    <tr>\n",
       "      <th>4</th>\n",
       "      <td>1.4</td>\n",
       "      <td>0.2</td>\n",
       "    </tr>\n",
       "    <tr>\n",
       "      <th>...</th>\n",
       "      <td>...</td>\n",
       "      <td>...</td>\n",
       "    </tr>\n",
       "    <tr>\n",
       "      <th>145</th>\n",
       "      <td>5.2</td>\n",
       "      <td>2.3</td>\n",
       "    </tr>\n",
       "    <tr>\n",
       "      <th>146</th>\n",
       "      <td>5.0</td>\n",
       "      <td>1.9</td>\n",
       "    </tr>\n",
       "    <tr>\n",
       "      <th>147</th>\n",
       "      <td>5.2</td>\n",
       "      <td>2.0</td>\n",
       "    </tr>\n",
       "    <tr>\n",
       "      <th>148</th>\n",
       "      <td>5.4</td>\n",
       "      <td>2.3</td>\n",
       "    </tr>\n",
       "    <tr>\n",
       "      <th>149</th>\n",
       "      <td>5.1</td>\n",
       "      <td>1.8</td>\n",
       "    </tr>\n",
       "  </tbody>\n",
       "</table>\n",
       "<p>150 rows × 2 columns</p>\n",
       "</div>"
      ],
      "text/plain": [
       "     petal_length  petal_width\n",
       "0             1.4          0.2\n",
       "1             1.4          0.2\n",
       "2             1.3          0.2\n",
       "3             1.5          0.2\n",
       "4             1.4          0.2\n",
       "..            ...          ...\n",
       "145           5.2          2.3\n",
       "146           5.0          1.9\n",
       "147           5.2          2.0\n",
       "148           5.4          2.3\n",
       "149           5.1          1.8\n",
       "\n",
       "[150 rows x 2 columns]"
      ]
     },
     "execution_count": 8,
     "metadata": {},
     "output_type": "execute_result"
    }
   ],
   "source": [
    "iris"
   ]
  },
  {
   "cell_type": "code",
   "execution_count": 9,
   "id": "fd53453d",
   "metadata": {},
   "outputs": [],
   "source": [
    "x = iris['petal_length']\n",
    "y = iris['petal_width']"
   ]
  },
  {
   "cell_type": "code",
   "execution_count": 10,
   "id": "efb73cac",
   "metadata": {
    "scrolled": true
   },
   "outputs": [
    {
     "data": {
      "text/plain": [
       "Text(0, 0.5, 'petal width')"
      ]
     },
     "execution_count": 10,
     "metadata": {},
     "output_type": "execute_result"
    },
    {
     "data": {
      "image/png": "[encoded data removed]",
      "text/plain": [
       "<Figure size 640x480 with 1 Axes>"
      ]
     },
     "metadata": {},
     "output_type": "display_data"
    }
   ],
   "source": [
    "plt.scatter(x,y)\n",
    "plt.xlabel(\"petal length\")\n",
    "plt.ylabel(\"petal width\")"
   ]
  },
  {
   "cell_type": "code",
   "execution_count": 12,
   "id": "e5f58a6a",
   "metadata": {},
   "outputs": [],
   "source": [
    "from sklearn.model_selection import train_test_split"
   ]
  },
  {
   "cell_type": "code",
   "execution_count": 34,
   "id": "d3aff4a0",
   "metadata": {},
   "outputs": [],
   "source": [
    "x_train, x_test, y_train, y_test = train_test_split(x,y,test_size=0.4,random_state=23)"
   ]
  },
  {
   "cell_type": "code",
   "execution_count": 37,
   "id": "98c61e5b",
   "metadata": {},
   "outputs": [
    {
     "data": {
      "text/plain": [
       "array([[5. ],\n",
       "       [1.6],\n",
       "       [4. ],\n",
       "       [1.7],\n",
       "       [5.6],\n",
       "       [4. ],\n",
       "       [4.8],\n",
       "       [5.6],\n",
       "       [5.1],\n",
       "       [4.9],\n",
       "       [1.4],\n",
       "       [1.6],\n",
       "       [5.6],\n",
       "       [1.4],\n",
       "       [1.6],\n",
       "       [5.5],\n",
       "       [5.1],\n",
       "       [4. ],\n",
       "       [1.4],\n",
       "       [4.1],\n",
       "       [5.3],\n",
       "       [4.5],\n",
       "       [5.8],\n",
       "       [6.6],\n",
       "       [4.3],\n",
       "       [1.3],\n",
       "       [4. ],\n",
       "       [4.9],\n",
       "       [4.9],\n",
       "       [4. ],\n",
       "       [1.5],\n",
       "       [4.5],\n",
       "       [4.5],\n",
       "       [3.9],\n",
       "       [5. ],\n",
       "       [4.8],\n",
       "       [3.8],\n",
       "       [5.1],\n",
       "       [6.3],\n",
       "       [6.1],\n",
       "       [1.2],\n",
       "       [5.7],\n",
       "       [3. ],\n",
       "       [1.5],\n",
       "       [5.9],\n",
       "       [4.8],\n",
       "       [1.4],\n",
       "       [4.5],\n",
       "       [4.2],\n",
       "       [5.2],\n",
       "       [1.3],\n",
       "       [1. ],\n",
       "       [3.5],\n",
       "       [1.1],\n",
       "       [4.7],\n",
       "       [4.2],\n",
       "       [1.2],\n",
       "       [5.8],\n",
       "       [4.3],\n",
       "       [4.5],\n",
       "       [1.6],\n",
       "       [6.9],\n",
       "       [4.6],\n",
       "       [5.1],\n",
       "       [5.6],\n",
       "       [4.7],\n",
       "       [1.5],\n",
       "       [1.6],\n",
       "       [5.5],\n",
       "       [5.8],\n",
       "       [4.4],\n",
       "       [1.3],\n",
       "       [5.2],\n",
       "       [3.3],\n",
       "       [5.7],\n",
       "       [3.5],\n",
       "       [1.3],\n",
       "       [1.5],\n",
       "       [1.5],\n",
       "       [5.1],\n",
       "       [1.4],\n",
       "       [1.4],\n",
       "       [4.9],\n",
       "       [1.4],\n",
       "       [4.4],\n",
       "       [1.5],\n",
       "       [4.6],\n",
       "       [1.5],\n",
       "       [1.3],\n",
       "       [5.1]])"
      ]
     },
     "execution_count": 37,
     "metadata": {},
     "output_type": "execute_result"
    }
   ],
   "source": [
    "x_train"
   ]
  },
  {
   "cell_type": "code",
   "execution_count": 38,
   "id": "706054ac",
   "metadata": {},
   "outputs": [
    {
     "data": {
      "text/plain": [
       "array([[5. ],\n",
       "       [1.6],\n",
       "       [4. ],\n",
       "       [1.7],\n",
       "       [5.6],\n",
       "       [4. ],\n",
       "       [4.8],\n",
       "       [5.6],\n",
       "       [5.1],\n",
       "       [4.9],\n",
       "       [1.4],\n",
       "       [1.6],\n",
       "       [5.6],\n",
       "       [1.4],\n",
       "       [1.6],\n",
       "       [5.5],\n",
       "       [5.1],\n",
       "       [4. ],\n",
       "       [1.4],\n",
       "       [4.1],\n",
       "       [5.3],\n",
       "       [4.5],\n",
       "       [5.8],\n",
       "       [6.6],\n",
       "       [4.3],\n",
       "       [1.3],\n",
       "       [4. ],\n",
       "       [4.9],\n",
       "       [4.9],\n",
       "       [4. ],\n",
       "       [1.5],\n",
       "       [4.5],\n",
       "       [4.5],\n",
       "       [3.9],\n",
       "       [5. ],\n",
       "       [4.8],\n",
       "       [3.8],\n",
       "       [5.1],\n",
       "       [6.3],\n",
       "       [6.1],\n",
       "       [1.2],\n",
       "       [5.7],\n",
       "       [3. ],\n",
       "       [1.5],\n",
       "       [5.9],\n",
       "       [4.8],\n",
       "       [1.4],\n",
       "       [4.5],\n",
       "       [4.2],\n",
       "       [5.2],\n",
       "       [1.3],\n",
       "       [1. ],\n",
       "       [3.5],\n",
       "       [1.1],\n",
       "       [4.7],\n",
       "       [4.2],\n",
       "       [1.2],\n",
       "       [5.8],\n",
       "       [4.3],\n",
       "       [4.5],\n",
       "       [1.6],\n",
       "       [6.9],\n",
       "       [4.6],\n",
       "       [5.1],\n",
       "       [5.6],\n",
       "       [4.7],\n",
       "       [1.5],\n",
       "       [1.6],\n",
       "       [5.5],\n",
       "       [5.8],\n",
       "       [4.4],\n",
       "       [1.3],\n",
       "       [5.2],\n",
       "       [3.3],\n",
       "       [5.7],\n",
       "       [3.5],\n",
       "       [1.3],\n",
       "       [1.5],\n",
       "       [1.5],\n",
       "       [5.1],\n",
       "       [1.4],\n",
       "       [1.4],\n",
       "       [4.9],\n",
       "       [1.4],\n",
       "       [4.4],\n",
       "       [1.5],\n",
       "       [4.6],\n",
       "       [1.5],\n",
       "       [1.3],\n",
       "       [5.1]])"
      ]
     },
     "execution_count": 38,
     "metadata": {},
     "output_type": "execute_result"
    }
   ],
   "source": [
    "x_train = np.array(x_train).reshape(-1,1)\n",
    "x_train"
   ]
  },
  {
   "cell_type": "code",
   "execution_count": 39,
   "id": "7f8aaaff",
   "metadata": {
    "scrolled": true
   },
   "outputs": [
    {
     "data": {
      "text/plain": [
       "array([[5.4],\n",
       "       [6. ],\n",
       "       [4.1],\n",
       "       [1.5],\n",
       "       [5. ],\n",
       "       [4.9],\n",
       "       [1.7],\n",
       "       [5.5],\n",
       "       [1.7],\n",
       "       [3.6],\n",
       "       [4.7],\n",
       "       [1.6],\n",
       "       [5.9],\n",
       "       [1.5],\n",
       "       [1.5],\n",
       "       [5.1],\n",
       "       [4.5],\n",
       "       [4.7],\n",
       "       [6.1],\n",
       "       [1.4],\n",
       "       [5.3],\n",
       "       [1.4],\n",
       "       [1.6],\n",
       "       [1.3],\n",
       "       [5.6],\n",
       "       [1.4],\n",
       "       [1.9],\n",
       "       [4.8],\n",
       "       [4.4],\n",
       "       [3.9],\n",
       "       [1.5],\n",
       "       [3.9],\n",
       "       [1.3],\n",
       "       [6.7],\n",
       "       [1.5],\n",
       "       [1.7],\n",
       "       [4.6],\n",
       "       [3.3],\n",
       "       [4.2],\n",
       "       [6. ],\n",
       "       [5.7],\n",
       "       [1.9],\n",
       "       [3.7],\n",
       "       [1.4],\n",
       "       [4.4],\n",
       "       [5. ],\n",
       "       [4.5],\n",
       "       [6.4],\n",
       "       [1.5],\n",
       "       [4.1],\n",
       "       [6.1],\n",
       "       [5.4],\n",
       "       [1.4],\n",
       "       [5.6],\n",
       "       [4.5],\n",
       "       [4.7],\n",
       "       [6.7],\n",
       "       [4.2],\n",
       "       [1.4],\n",
       "       [5.1]])"
      ]
     },
     "execution_count": 39,
     "metadata": {},
     "output_type": "execute_result"
    }
   ],
   "source": [
    "x_test = np.array(x_test).reshape(-1,1)\n",
    "x_test"
   ]
  },
  {
   "cell_type": "code",
   "execution_count": 40,
   "id": "8baebc08",
   "metadata": {},
   "outputs": [],
   "source": [
    "from sklearn.linear_model import LinearRegression"
   ]
  },
  {
   "cell_type": "code",
   "execution_count": 41,
   "id": "feafbc3a",
   "metadata": {},
   "outputs": [],
   "source": [
    "lr = LinearRegression()"
   ]
  },
  {
   "cell_type": "code",
   "execution_count": 42,
   "id": "99da85da",
   "metadata": {},
   "outputs": [
    {
     "data": {
      "text/html": [
       "<style>#sk-container-id-1 {color: black;background-color: white;}#sk-container-id-1 pre{padding: 0;}#sk-container-id-1 div.sk-toggleable {background-color: white;}#sk-container-id-1 label.sk-toggleable__label {cursor: pointer;display: block;width: 100%;margin-bottom: 0;padding: 0.3em;box-sizing: border-box;text-align: center;}#sk-container-id-1 label.sk-toggleable__label-arrow:before {content: \"▸\";float: left;margin-right: 0.25em;color: #696969;}#sk-container-id-1 label.sk-toggleable__label-arrow:hover:before {color: black;}#sk-container-id-1 div.sk-estimator:hover label.sk-toggleable__label-arrow:before {color: black;}#sk-container-id-1 div.sk-toggleable__content {max-height: 0;max-width: 0;overflow: hidden;text-align: left;background-color: #f0f8ff;}#sk-container-id-1 div.sk-toggleable__content pre {margin: 0.2em;color: black;border-radius: 0.25em;background-color: #f0f8ff;}#sk-container-id-1 input.sk-toggleable__control:checked~div.sk-toggleable__content {max-height: 200px;max-width: 100%;overflow: auto;}#sk-container-id-1 input.sk-toggleable__control:checked~label.sk-toggleable__label-arrow:before {content: \"▾\";}#sk-container-id-1 div.sk-estimator input.sk-toggleable__control:checked~label.sk-toggleable__label {background-color: #d4ebff;}#sk-container-id-1 div.sk-label input.sk-toggleable__control:checked~label.sk-toggleable__label {background-color: #d4ebff;}#sk-container-id-1 input.sk-hidden--visually {border: 0;clip: rect(1px 1px 1px 1px);clip: rect(1px, 1px, 1px, 1px);height: 1px;margin: -1px;overflow: hidden;padding: 0;position: absolute;width: 1px;}#sk-container-id-1 div.sk-estimator {font-family: monospace;background-color: #f0f8ff;border: 1px dotted black;border-radius: 0.25em;box-sizing: border-box;margin-bottom: 0.5em;}#sk-container-id-1 div.sk-estimator:hover {background-color: #d4ebff;}#sk-container-id-1 div.sk-parallel-item::after {content: \"\";width: 100%;border-bottom: 1px solid gray;flex-grow: 1;}#sk-container-id-1 div.sk-label:hover label.sk-toggleable__label {background-color: #d4ebff;}#sk-container-id-1 div.sk-serial::before {content: \"\";position: absolute;border-left: 1px solid gray;box-sizing: border-box;top: 0;bottom: 0;left: 50%;z-index: 0;}#sk-container-id-1 div.sk-serial {display: flex;flex-direction: column;align-items: center;background-color: white;padding-right: 0.2em;padding-left: 0.2em;position: relative;}#sk-container-id-1 div.sk-item {position: relative;z-index: 1;}#sk-container-id-1 div.sk-parallel {display: flex;align-items: stretch;justify-content: center;background-color: white;position: relative;}#sk-container-id-1 div.sk-item::before, #sk-container-id-1 div.sk-parallel-item::before {content: \"\";position: absolute;border-left: 1px solid gray;box-sizing: border-box;top: 0;bottom: 0;left: 50%;z-index: -1;}#sk-container-id-1 div.sk-parallel-item {display: flex;flex-direction: column;z-index: 1;position: relative;background-color: white;}#sk-container-id-1 div.sk-parallel-item:first-child::after {align-self: flex-end;width: 50%;}#sk-container-id-1 div.sk-parallel-item:last-child::after {align-self: flex-start;width: 50%;}#sk-container-id-1 div.sk-parallel-item:only-child::after {width: 0;}#sk-container-id-1 div.sk-dashed-wrapped {border: 1px dashed gray;margin: 0 0.4em 0.5em 0.4em;box-sizing: border-box;padding-bottom: 0.4em;background-color: white;}#sk-container-id-1 div.sk-label label {font-family: monospace;font-weight: bold;display: inline-block;line-height: 1.2em;}#sk-container-id-1 div.sk-label-container {text-align: center;}#sk-container-id-1 div.sk-container {/* jupyter's `normalize.less` sets `[hidden] { display: none; }` but bootstrap.min.css set `[hidden] { display: none !important; }` so we also need the `!important` here to be able to override the default hidden behavior on the sphinx rendered scikit-learn.org. See: https://github.com/scikit-learn/scikit-learn/issues/21755 */display: inline-block !important;position: relative;}#sk-container-id-1 div.sk-text-repr-fallback {display: none;}</style><div id=\"sk-container-id-1\" class=\"sk-top-container\"><div class=\"sk-text-repr-fallback\"><pre>LinearRegression()</pre><b>In a Jupyter environment, please rerun this cell to show the HTML representation or trust the notebook. <br />On GitHub, the HTML representation is unable to render, please try loading this page with nbviewer.org.</b></div><div class=\"sk-container\" hidden><div class=\"sk-item\"><div class=\"sk-estimator sk-toggleable\"><input class=\"sk-toggleable__control sk-hidden--visually\" id=\"sk-estimator-id-1\" type=\"checkbox\" checked><label for=\"sk-estimator-id-1\" class=\"sk-toggleable__label sk-toggleable__label-arrow\">LinearRegression</label><div class=\"sk-toggleable__content\"><pre>LinearRegression()</pre></div></div></div></div></div>"
      ],
      "text/plain": [
       "LinearRegression()"
      ]
     },
     "execution_count": 42,
     "metadata": {},
     "output_type": "execute_result"
    }
   ],
   "source": [
    "lr.fit(x_train,y_train)"
   ]
  },
  {
   "cell_type": "code",
   "execution_count": 53,
   "id": "4b664844",
   "metadata": {},
   "outputs": [
    {
     "data": {
      "text/plain": [
       "-0.35113274221437507"
      ]
     },
     "execution_count": 53,
     "metadata": {},
     "output_type": "execute_result"
    }
   ],
   "source": [
    "c = lr.intercept_\n",
    "c"
   ]
  },
  {
   "cell_type": "code",
   "execution_count": 54,
   "id": "de9f8640",
   "metadata": {},
   "outputs": [
    {
     "data": {
      "text/plain": [
       "array([0.41684538])"
      ]
     },
     "execution_count": 54,
     "metadata": {},
     "output_type": "execute_result"
    }
   ],
   "source": [
    "m = lr.coef_\n",
    "m"
   ]
  },
  {
   "cell_type": "code",
   "execution_count": 55,
   "id": "afc74127",
   "metadata": {},
   "outputs": [],
   "source": [
    "y_pred_train = m*x_train+c"
   ]
  },
  {
   "cell_type": "code",
   "execution_count": 56,
   "id": "c9b54566",
   "metadata": {},
   "outputs": [
    {
     "data": {
      "text/plain": [
       "array([[1.73309416],\n",
       "       [0.31581987],\n",
       "       [1.31624878],\n",
       "       [0.3575044 ],\n",
       "       [1.98320139],\n",
       "       [1.31624878],\n",
       "       [1.64972508],\n",
       "       [1.98320139],\n",
       "       [1.7747787 ],\n",
       "       [1.69140962],\n",
       "       [0.23245079],\n",
       "       [0.31581987],\n",
       "       [1.98320139],\n",
       "       [0.23245079],\n",
       "       [0.31581987],\n",
       "       [1.94151685],\n",
       "       [1.7747787 ],\n",
       "       [1.31624878],\n",
       "       [0.23245079],\n",
       "       [1.35793332],\n",
       "       [1.85814777],\n",
       "       [1.52467147],\n",
       "       [2.06657046],\n",
       "       [2.40004677],\n",
       "       [1.44130239],\n",
       "       [0.19076625],\n",
       "       [1.31624878],\n",
       "       [1.69140962],\n",
       "       [1.69140962],\n",
       "       [1.31624878],\n",
       "       [0.27413533],\n",
       "       [1.52467147],\n",
       "       [1.52467147],\n",
       "       [1.27456424],\n",
       "       [1.73309416],\n",
       "       [1.64972508],\n",
       "       [1.2328797 ],\n",
       "       [1.7747787 ],\n",
       "       [2.27499315],\n",
       "       [2.19162408],\n",
       "       [0.14908171],\n",
       "       [2.02488593],\n",
       "       [0.8994034 ],\n",
       "       [0.27413533],\n",
       "       [2.108255  ],\n",
       "       [1.64972508],\n",
       "       [0.23245079],\n",
       "       [1.52467147],\n",
       "       [1.39961786],\n",
       "       [1.81646324],\n",
       "       [0.19076625],\n",
       "       [0.06571264],\n",
       "       [1.10782609],\n",
       "       [0.10739718],\n",
       "       [1.60804055],\n",
       "       [1.39961786],\n",
       "       [0.14908171],\n",
       "       [2.06657046],\n",
       "       [1.44130239],\n",
       "       [1.52467147],\n",
       "       [0.31581987],\n",
       "       [2.52510038],\n",
       "       [1.56635601],\n",
       "       [1.7747787 ],\n",
       "       [1.98320139],\n",
       "       [1.60804055],\n",
       "       [0.27413533],\n",
       "       [0.31581987],\n",
       "       [1.94151685],\n",
       "       [2.06657046],\n",
       "       [1.48298693],\n",
       "       [0.19076625],\n",
       "       [1.81646324],\n",
       "       [1.02445701],\n",
       "       [2.02488593],\n",
       "       [1.10782609],\n",
       "       [0.19076625],\n",
       "       [0.27413533],\n",
       "       [0.27413533],\n",
       "       [1.7747787 ],\n",
       "       [0.23245079],\n",
       "       [0.23245079],\n",
       "       [1.69140962],\n",
       "       [0.23245079],\n",
       "       [1.48298693],\n",
       "       [0.27413533],\n",
       "       [1.56635601],\n",
       "       [0.27413533],\n",
       "       [0.19076625],\n",
       "       [1.7747787 ]])"
      ]
     },
     "execution_count": 56,
     "metadata": {},
     "output_type": "execute_result"
    }
   ],
   "source": [
    "y_pred_train"
   ]
  },
  {
   "cell_type": "code",
   "execution_count": 57,
   "id": "5cf96c13",
   "metadata": {},
   "outputs": [
    {
     "data": {
      "text/plain": [
       "array([1.73309416, 0.31581987, 1.31624878, 0.3575044 , 1.98320139,\n",
       "       1.31624878, 1.64972508, 1.98320139, 1.7747787 , 1.69140962,\n",
       "       0.23245079, 0.31581987, 1.98320139, 0.23245079, 0.31581987,\n",
       "       1.94151685, 1.7747787 , 1.31624878, 0.23245079, 1.35793332,\n",
       "       1.85814777, 1.52467147, 2.06657046, 2.40004677, 1.44130239,\n",
       "       0.19076625, 1.31624878, 1.69140962, 1.69140962, 1.31624878,\n",
       "       0.27413533, 1.52467147, 1.52467147, 1.27456424, 1.73309416,\n",
       "       1.64972508, 1.2328797 , 1.7747787 , 2.27499315, 2.19162408,\n",
       "       0.14908171, 2.02488593, 0.8994034 , 0.27413533, 2.108255  ,\n",
       "       1.64972508, 0.23245079, 1.52467147, 1.39961786, 1.81646324,\n",
       "       0.19076625, 0.06571264, 1.10782609, 0.10739718, 1.60804055,\n",
       "       1.39961786, 0.14908171, 2.06657046, 1.44130239, 1.52467147,\n",
       "       0.31581987, 2.52510038, 1.56635601, 1.7747787 , 1.98320139,\n",
       "       1.60804055, 0.27413533, 0.31581987, 1.94151685, 2.06657046,\n",
       "       1.48298693, 0.19076625, 1.81646324, 1.02445701, 2.02488593,\n",
       "       1.10782609, 0.19076625, 0.27413533, 0.27413533, 1.7747787 ,\n",
       "       0.23245079, 0.23245079, 1.69140962, 0.23245079, 1.48298693,\n",
       "       0.27413533, 1.56635601, 0.27413533, 0.19076625, 1.7747787 ])"
      ]
     },
     "execution_count": 57,
     "metadata": {},
     "output_type": "execute_result"
    }
   ],
   "source": [
    "lr.predict(x_train)"
   ]
  },
  {
   "cell_type": "code",
   "execution_count": 58,
   "id": "ae440b7a",
   "metadata": {},
   "outputs": [
    {
     "data": {
      "text/html": [
       "<div>\n",
       "<style scoped>\n",
       "    .dataframe tbody tr th:only-of-type {\n",
       "        vertical-align: middle;\n",
       "    }\n",
       "\n",
       "    .dataframe tbody tr th {\n",
       "        vertical-align: top;\n",
       "    }\n",
       "\n",
       "    .dataframe thead th {\n",
       "        text-align: right;\n",
       "    }\n",
       "</style>\n",
       "<table border=\"1\" class=\"dataframe\">\n",
       "  <thead>\n",
       "    <tr style=\"text-align: right;\">\n",
       "      <th></th>\n",
       "      <th>petal_length</th>\n",
       "      <th>petal_width</th>\n",
       "    </tr>\n",
       "  </thead>\n",
       "  <tbody>\n",
       "    <tr>\n",
       "      <th>0</th>\n",
       "      <td>1.4</td>\n",
       "      <td>0.2</td>\n",
       "    </tr>\n",
       "    <tr>\n",
       "      <th>1</th>\n",
       "      <td>1.4</td>\n",
       "      <td>0.2</td>\n",
       "    </tr>\n",
       "    <tr>\n",
       "      <th>2</th>\n",
       "      <td>1.3</td>\n",
       "      <td>0.2</td>\n",
       "    </tr>\n",
       "    <tr>\n",
       "      <th>3</th>\n",
       "      <td>1.5</td>\n",
       "      <td>0.2</td>\n",
       "    </tr>\n",
       "    <tr>\n",
       "      <th>4</th>\n",
       "      <td>1.4</td>\n",
       "      <td>0.2</td>\n",
       "    </tr>\n",
       "    <tr>\n",
       "      <th>...</th>\n",
       "      <td>...</td>\n",
       "      <td>...</td>\n",
       "    </tr>\n",
       "    <tr>\n",
       "      <th>145</th>\n",
       "      <td>5.2</td>\n",
       "      <td>2.3</td>\n",
       "    </tr>\n",
       "    <tr>\n",
       "      <th>146</th>\n",
       "      <td>5.0</td>\n",
       "      <td>1.9</td>\n",
       "    </tr>\n",
       "    <tr>\n",
       "      <th>147</th>\n",
       "      <td>5.2</td>\n",
       "      <td>2.0</td>\n",
       "    </tr>\n",
       "    <tr>\n",
       "      <th>148</th>\n",
       "      <td>5.4</td>\n",
       "      <td>2.3</td>\n",
       "    </tr>\n",
       "    <tr>\n",
       "      <th>149</th>\n",
       "      <td>5.1</td>\n",
       "      <td>1.8</td>\n",
       "    </tr>\n",
       "  </tbody>\n",
       "</table>\n",
       "<p>150 rows × 2 columns</p>\n",
       "</div>"
      ],
      "text/plain": [
       "     petal_length  petal_width\n",
       "0             1.4          0.2\n",
       "1             1.4          0.2\n",
       "2             1.3          0.2\n",
       "3             1.5          0.2\n",
       "4             1.4          0.2\n",
       "..            ...          ...\n",
       "145           5.2          2.3\n",
       "146           5.0          1.9\n",
       "147           5.2          2.0\n",
       "148           5.4          2.3\n",
       "149           5.1          1.8\n",
       "\n",
       "[150 rows x 2 columns]"
      ]
     },
     "execution_count": 58,
     "metadata": {},
     "output_type": "execute_result"
    }
   ],
   "source": [
    "iris"
   ]
  },
  {
   "cell_type": "code",
   "execution_count": 63,
   "id": "70949a0f",
   "metadata": {},
   "outputs": [
    {
     "data": {
      "text/plain": [
       "Text(0, 0.5, 'petal width')"
      ]
     },
     "execution_count": 63,
     "metadata": {},
     "output_type": "execute_result"
    },
    {
     "data": {
      "image/png": "[encoded data removed]",
      "text/plain": [
       "<Figure size 640x480 with 1 Axes>"
      ]
     },
     "metadata": {},
     "output_type": "display_data"
    }
   ],
   "source": [
    "plt.scatter(x_train,y_train)\n",
    "plt.plot(x_train,y_pred_train, color=\"red\")\n",
    "plt.xlabel(\"petal length\")\n",
    "plt.ylabel(\"petal width\")"
   ]
  },
  {
   "cell_type": "code",
   "execution_count": 67,
   "id": "f79ce9d6",
   "metadata": {},
   "outputs": [
    {
     "data": {
      "text/plain": [
       "array([1.89983231, 2.14993954, 1.35793332, 0.27413533, 1.73309416,\n",
       "       1.69140962, 0.3575044 , 1.94151685, 0.3575044 , 1.14951063,\n",
       "       1.60804055, 0.31581987, 2.108255  , 0.27413533, 0.27413533,\n",
       "       1.7747787 , 1.52467147, 1.60804055, 2.19162408, 0.23245079,\n",
       "       1.85814777, 0.23245079, 0.31581987, 0.19076625, 1.98320139,\n",
       "       0.23245079, 0.44087348, 1.64972508, 1.48298693, 1.27456424,\n",
       "       0.27413533, 1.27456424, 0.19076625, 2.44173131, 0.27413533,\n",
       "       0.3575044 , 1.56635601, 1.02445701, 1.39961786, 2.14993954,\n",
       "       2.02488593, 0.44087348, 1.19119517, 0.23245079, 1.48298693,\n",
       "       1.73309416, 1.52467147, 2.31667769, 0.27413533, 1.35793332,\n",
       "       2.19162408, 1.89983231, 0.23245079, 1.98320139, 1.52467147,\n",
       "       1.60804055, 2.44173131, 1.39961786, 0.23245079, 1.7747787 ])"
      ]
     },
     "execution_count": 67,
     "metadata": {},
     "output_type": "execute_result"
    }
   ],
   "source": [
    "y_predict_test = lr.predict(x_test)\n",
    "y_predict_test"
   ]
  },
  {
   "cell_type": "code",
   "execution_count": 72,
   "id": "3d146a2e",
   "metadata": {},
   "outputs": [
    {
     "data": {
      "text/plain": [
       "Text(0, 0.5, 'petal width')"
      ]
     },
     "execution_count": 72,
     "metadata": {},
     "output_type": "execute_result"
    },
    {
     "data": {
      "image/png": "[encoded data removed]",
      "text/plain": [
       "<Figure size 640x480 with 1 Axes>"
      ]
     },
     "metadata": {},
     "output_type": "display_data"
    }
   ],
   "source": [
    "plt.scatter(x_test ,y_test)\n",
    "plt.plot(x_test,y_predict_test, color=\"red\")\n",
    "plt.xlabel(\"petal length\")\n",
    "plt.ylabel(\"petal width\")"
   ]
  },
  {
   "cell_type": "code",
   "execution_count": null,
   "id": "9ca03b99",
   "metadata": {},
   "outputs": [],
   "source": []
  }
 ],
 "metadata": {
  "kernelspec": {
   "display_name": "Python 3 (ipykernel)",
   "language": "python",
   "name": "python3"
  },
  "language_info": {
   "codemirror_mode": {
    "name": "ipython",
    "version": 3
   },
   "file_extension": ".py",
   "mimetype": "text/x-python",
   "name": "python",
   "nbconvert_exporter": "python",
   "pygments_lexer": "ipython3",
   "version": "3.10.6"
  }
 },
 "nbformat": 4,
 "nbformat_minor": 5
}
